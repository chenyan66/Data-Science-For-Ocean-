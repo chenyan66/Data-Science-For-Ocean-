{
 "cells": [
  {
   "cell_type": "markdown",
   "metadata": {},
   "source": [
    "## K-Fold Cross Validation & GridSearch"
   ]
  },
  {
   "cell_type": "markdown",
   "metadata": {},
   "source": [
    "### AIS Data – Activity Classification – Demo Data Extracated from Main Data"
   ]
  },
  {
   "cell_type": "code",
   "execution_count": 1,
   "metadata": {},
   "outputs": [],
   "source": [
    "#### INPUTS (X): VesselName, MMSI, VesselType, Length, Width, SOG\n",
    "##### MMSI --> Maritime Mobile Service Identity --> nine digits ID\n",
    "##### SOG --> Speed Over Ground\n",
    "##### OUTPUT (y): Status\n",
    "#####             0 - 'engaged in fishing‘\n",
    "#####             1 - 'under way using engine‘\n",
    "#####             2 - 'undefined‘\n",
    "#####             3 - 'at anchor'"
   ]
  },
  {
   "cell_type": "code",
   "execution_count": 2,
   "metadata": {},
   "outputs": [],
   "source": [
    "# Importing the libraries\n",
    "import numpy as np\n",
    "import matplotlib.pyplot as plt\n",
    "import pandas as pd"
   ]
  },
  {
   "cell_type": "code",
   "execution_count": 3,
   "metadata": {},
   "outputs": [
    {
     "data": {
      "text/html": [
       "<div>\n",
       "<style scoped>\n",
       "    .dataframe tbody tr th:only-of-type {\n",
       "        vertical-align: middle;\n",
       "    }\n",
       "\n",
       "    .dataframe tbody tr th {\n",
       "        vertical-align: top;\n",
       "    }\n",
       "\n",
       "    .dataframe thead th {\n",
       "        text-align: right;\n",
       "    }\n",
       "</style>\n",
       "<table border=\"1\" class=\"dataframe\">\n",
       "  <thead>\n",
       "    <tr style=\"text-align: right;\">\n",
       "      <th></th>\n",
       "      <th>VesselName</th>\n",
       "      <th>MMSI</th>\n",
       "      <th>VesselType</th>\n",
       "      <th>Length</th>\n",
       "      <th>Width</th>\n",
       "      <th>SOG</th>\n",
       "      <th>Status</th>\n",
       "    </tr>\n",
       "  </thead>\n",
       "  <tbody>\n",
       "    <tr>\n",
       "      <th>0</th>\n",
       "      <td>ALEUTIAN NO 1</td>\n",
       "      <td>366988820</td>\n",
       "      <td>1001</td>\n",
       "      <td>37.22</td>\n",
       "      <td>9.73</td>\n",
       "      <td>9.2</td>\n",
       "      <td>engaged in fishing</td>\n",
       "    </tr>\n",
       "    <tr>\n",
       "      <th>1</th>\n",
       "      <td>ALEUTIAN NO 1</td>\n",
       "      <td>366988820</td>\n",
       "      <td>1001</td>\n",
       "      <td>37.22</td>\n",
       "      <td>9.73</td>\n",
       "      <td>9.6</td>\n",
       "      <td>engaged in fishing</td>\n",
       "    </tr>\n",
       "    <tr>\n",
       "      <th>2</th>\n",
       "      <td>ALEUTIAN NO 1</td>\n",
       "      <td>366988820</td>\n",
       "      <td>1001</td>\n",
       "      <td>37.22</td>\n",
       "      <td>9.73</td>\n",
       "      <td>9.3</td>\n",
       "      <td>engaged in fishing</td>\n",
       "    </tr>\n",
       "    <tr>\n",
       "      <th>3</th>\n",
       "      <td>ALEUTIAN NO 1</td>\n",
       "      <td>366988820</td>\n",
       "      <td>1001</td>\n",
       "      <td>37.22</td>\n",
       "      <td>9.73</td>\n",
       "      <td>9.5</td>\n",
       "      <td>engaged in fishing</td>\n",
       "    </tr>\n",
       "    <tr>\n",
       "      <th>4</th>\n",
       "      <td>ALEUTIAN NO 1</td>\n",
       "      <td>366988820</td>\n",
       "      <td>1001</td>\n",
       "      <td>37.22</td>\n",
       "      <td>9.73</td>\n",
       "      <td>9.6</td>\n",
       "      <td>engaged in fishing</td>\n",
       "    </tr>\n",
       "  </tbody>\n",
       "</table>\n",
       "</div>"
      ],
      "text/plain": [
       "      VesselName       MMSI  VesselType  Length  Width  SOG  \\\n",
       "0  ALEUTIAN NO 1  366988820        1001   37.22   9.73  9.2   \n",
       "1  ALEUTIAN NO 1  366988820        1001   37.22   9.73  9.6   \n",
       "2  ALEUTIAN NO 1  366988820        1001   37.22   9.73  9.3   \n",
       "3  ALEUTIAN NO 1  366988820        1001   37.22   9.73  9.5   \n",
       "4  ALEUTIAN NO 1  366988820        1001   37.22   9.73  9.6   \n",
       "\n",
       "               Status  \n",
       "0  engaged in fishing  \n",
       "1  engaged in fishing  \n",
       "2  engaged in fishing  \n",
       "3  engaged in fishing  \n",
       "4  engaged in fishing  "
      ]
     },
     "execution_count": 3,
     "metadata": {},
     "output_type": "execute_result"
    }
   ],
   "source": [
    "# Importing the dataset\n",
    "dataset = pd.read_csv('AIS_2017_01_Zone01.csv')\n",
    "dataset.head()"
   ]
  },
  {
   "cell_type": "code",
   "execution_count": 4,
   "metadata": {},
   "outputs": [
    {
     "data": {
      "text/html": [
       "<div>\n",
       "<style scoped>\n",
       "    .dataframe tbody tr th:only-of-type {\n",
       "        vertical-align: middle;\n",
       "    }\n",
       "\n",
       "    .dataframe tbody tr th {\n",
       "        vertical-align: top;\n",
       "    }\n",
       "\n",
       "    .dataframe thead th {\n",
       "        text-align: right;\n",
       "    }\n",
       "</style>\n",
       "<table border=\"1\" class=\"dataframe\">\n",
       "  <thead>\n",
       "    <tr style=\"text-align: right;\">\n",
       "      <th></th>\n",
       "      <th>VesselName</th>\n",
       "      <th>MMSI</th>\n",
       "      <th>VesselType</th>\n",
       "      <th>Length</th>\n",
       "      <th>Width</th>\n",
       "      <th>SOG</th>\n",
       "      <th>Status</th>\n",
       "    </tr>\n",
       "  </thead>\n",
       "  <tbody>\n",
       "    <tr>\n",
       "      <th>9952</th>\n",
       "      <td>WESTWOOD PACIFIC</td>\n",
       "      <td>211517000</td>\n",
       "      <td>1004</td>\n",
       "      <td>183.2</td>\n",
       "      <td>29.94</td>\n",
       "      <td>13.0</td>\n",
       "      <td>under way using engine</td>\n",
       "    </tr>\n",
       "    <tr>\n",
       "      <th>9953</th>\n",
       "      <td>WESTWOOD PACIFIC</td>\n",
       "      <td>211517000</td>\n",
       "      <td>1004</td>\n",
       "      <td>183.2</td>\n",
       "      <td>29.94</td>\n",
       "      <td>13.1</td>\n",
       "      <td>under way using engine</td>\n",
       "    </tr>\n",
       "    <tr>\n",
       "      <th>9954</th>\n",
       "      <td>WESTWOOD PACIFIC</td>\n",
       "      <td>211517000</td>\n",
       "      <td>1004</td>\n",
       "      <td>183.2</td>\n",
       "      <td>29.94</td>\n",
       "      <td>13.1</td>\n",
       "      <td>under way using engine</td>\n",
       "    </tr>\n",
       "    <tr>\n",
       "      <th>9955</th>\n",
       "      <td>WESTWOOD PACIFIC</td>\n",
       "      <td>211517000</td>\n",
       "      <td>1004</td>\n",
       "      <td>183.2</td>\n",
       "      <td>29.94</td>\n",
       "      <td>13.1</td>\n",
       "      <td>under way using engine</td>\n",
       "    </tr>\n",
       "    <tr>\n",
       "      <th>9956</th>\n",
       "      <td>WESTWOOD PACIFIC</td>\n",
       "      <td>211517000</td>\n",
       "      <td>1004</td>\n",
       "      <td>183.2</td>\n",
       "      <td>29.94</td>\n",
       "      <td>13.1</td>\n",
       "      <td>under way using engine</td>\n",
       "    </tr>\n",
       "  </tbody>\n",
       "</table>\n",
       "</div>"
      ],
      "text/plain": [
       "            VesselName       MMSI  VesselType  Length  Width   SOG  \\\n",
       "9952  WESTWOOD PACIFIC  211517000        1004   183.2  29.94  13.0   \n",
       "9953  WESTWOOD PACIFIC  211517000        1004   183.2  29.94  13.1   \n",
       "9954  WESTWOOD PACIFIC  211517000        1004   183.2  29.94  13.1   \n",
       "9955  WESTWOOD PACIFIC  211517000        1004   183.2  29.94  13.1   \n",
       "9956  WESTWOOD PACIFIC  211517000        1004   183.2  29.94  13.1   \n",
       "\n",
       "                      Status  \n",
       "9952  under way using engine  \n",
       "9953  under way using engine  \n",
       "9954  under way using engine  \n",
       "9955  under way using engine  \n",
       "9956  under way using engine  "
      ]
     },
     "execution_count": 4,
     "metadata": {},
     "output_type": "execute_result"
    }
   ],
   "source": [
    "dataset.tail()"
   ]
  },
  {
   "cell_type": "code",
   "execution_count": 5,
   "metadata": {},
   "outputs": [
    {
     "name": "stdout",
     "output_type": "stream",
     "text": [
      "['engaged in fishing' 'engaged in fishing' 'engaged in fishing']\n"
     ]
    }
   ],
   "source": [
    "X = dataset.iloc[:, 1:-1].values\n",
    "y = dataset.iloc[:, -1].values\n",
    "print(y[0:3])"
   ]
  },
  {
   "cell_type": "code",
   "execution_count": 6,
   "metadata": {},
   "outputs": [
    {
     "name": "stdout",
     "output_type": "stream",
     "text": [
      "[1 1 1]\n"
     ]
    }
   ],
   "source": [
    "## Categories\n",
    "# {'engaged in fishing','under way using engine','undefined','at anchor'}\n",
    "# Encoding categorical data\n",
    "from sklearn.preprocessing import LabelEncoder\n",
    "labelencoder_y = LabelEncoder()\n",
    "y = labelencoder_y.fit_transform(y)\n",
    "print(y[0:3])"
   ]
  },
  {
   "cell_type": "code",
   "execution_count": 7,
   "metadata": {},
   "outputs": [],
   "source": [
    "# Splitting the dataset into the Training set and Test set\n",
    "from sklearn.model_selection import train_test_split\n",
    "X_train, X_test, y_train, y_test = train_test_split(X, y, test_size = 0.25, random_state = 0)"
   ]
  },
  {
   "cell_type": "code",
   "execution_count": 8,
   "metadata": {},
   "outputs": [],
   "source": [
    "# Feature Scaling\n",
    "from sklearn.preprocessing import StandardScaler\n",
    "sc = StandardScaler()\n",
    "X_train = sc.fit_transform(X_train)\n",
    "X_test = sc.transform(X_test)"
   ]
  },
  {
   "cell_type": "code",
   "execution_count": 9,
   "metadata": {},
   "outputs": [],
   "source": [
    "# Applying PCA after selecting no of components\n",
    "from sklearn.decomposition import PCA\n",
    "pca = PCA(n_components = 2)\n",
    "X_train = pca.fit_transform(X_train)\n",
    "X_test = pca.transform(X_test)"
   ]
  },
  {
   "cell_type": "code",
   "execution_count": 10,
   "metadata": {},
   "outputs": [
    {
     "data": {
      "text/plain": [
       "SVC(random_state=0)"
      ]
     },
     "execution_count": 10,
     "metadata": {},
     "output_type": "execute_result"
    }
   ],
   "source": [
    "# Fitting Kernel SVM to the Training set\n",
    "from sklearn.svm import SVC\n",
    "classifier = SVC(kernel = 'rbf', random_state = 0, gamma='scale')\n",
    "classifier.fit(X_train, y_train)"
   ]
  },
  {
   "cell_type": "code",
   "execution_count": 11,
   "metadata": {},
   "outputs": [],
   "source": [
    "# Predicting the Test set results\n",
    "y_pred = classifier.predict(X_test)"
   ]
  },
  {
   "cell_type": "code",
   "execution_count": 12,
   "metadata": {},
   "outputs": [
    {
     "name": "stdout",
     "output_type": "stream",
     "text": [
      "[[ 247    0    0    0]\n",
      " [   0  189    0    1]\n",
      " [   0    0  635    0]\n",
      " [   1    1    0 1416]]\n"
     ]
    }
   ],
   "source": [
    "# Making the Confusion Matrix\n",
    "from sklearn.metrics import confusion_matrix\n",
    "cm = confusion_matrix(y_test, y_pred)\n",
    "print(cm)"
   ]
  },
  {
   "cell_type": "markdown",
   "metadata": {},
   "source": [
    "### k-Fold Cross Validation"
   ]
  },
  {
   "cell_type": "code",
   "execution_count": 13,
   "metadata": {},
   "outputs": [
    {
     "data": {
      "text/plain": [
       "0.9991964282509842"
      ]
     },
     "execution_count": 13,
     "metadata": {},
     "output_type": "execute_result"
    }
   ],
   "source": [
    "# Applying k-Fold Cross Validation\n",
    "from sklearn.model_selection import cross_val_score\n",
    "# K Fold == 10 Fold\n",
    "accuracies = cross_val_score(estimator = classifier, X = X_train, y = y_train, cv = 10)\n",
    "accuracies.mean()"
   ]
  },
  {
   "cell_type": "code",
   "execution_count": 14,
   "metadata": {},
   "outputs": [
    {
     "data": {
      "text/plain": [
       "0.0008887430295996824"
      ]
     },
     "execution_count": 14,
     "metadata": {},
     "output_type": "execute_result"
    }
   ],
   "source": [
    "accuracies.std()"
   ]
  },
  {
   "cell_type": "markdown",
   "metadata": {},
   "source": [
    "### Grid Search"
   ]
  },
  {
   "cell_type": "code",
   "execution_count": 15,
   "metadata": {},
   "outputs": [],
   "source": [
    "# # Applying Grid Search to find the best model and the best parameters\n",
    "# from sklearn.model_selection import GridSearchCV\n",
    "# parameters = [{'C': [1, 10, 100, 1000], 'kernel': ['linear']},\n",
    "#               {'C': [1, 10, 100, 1000], 'kernel': ['rbf'], 'gamma': [0.1, 0.2, 0.3, 0.4, 0.5, 0.6, 0.7, 0.8, 0.9]}]\n",
    "# grid_search = GridSearchCV(estimator = classifier,\n",
    "#                            param_grid = parameters,\n",
    "#                            scoring = 'accuracy',\n",
    "#                            cv = 10,\n",
    "#                            n_jobs = 1)\n",
    "# grid_search = grid_search.fit(X_train, y_train)\n",
    "# best_accuracy = grid_search.best_score_\n",
    "# best_parameters = grid_search.best_params_\n",
    "# # About 1 Hour [Intel i7, 16 GB RAM] --> {'C': 1, 'gamma': 0.1, 'kernel': 'rbf'}"
   ]
  },
  {
   "cell_type": "code",
   "execution_count": 16,
   "metadata": {},
   "outputs": [],
   "source": [
    "# More Optimizing\n",
    "from sklearn.model_selection import GridSearchCV\n",
    "parameters = [{'C': [0.8,0.9], 'kernel': ['rbf'], 'gamma': [0.09, 0.1]}]\n",
    "grid_search = GridSearchCV(estimator = classifier,\n",
    "                           param_grid = parameters,\n",
    "                           scoring = 'accuracy',\n",
    "                           cv = 10,\n",
    "                           n_jobs = 1)\n",
    "# n_jobs = - 1 uses all processors \n",
    "# https://scikit-learn.org/stable/modules/generated/sklearn.model_selection.GridSearchCV.html\n",
    "\n",
    "grid_search = grid_search.fit(X_train, y_train)\n",
    "best_accuracy2 = grid_search.best_score_"
   ]
  },
  {
   "cell_type": "code",
   "execution_count": 17,
   "metadata": {},
   "outputs": [],
   "source": [
    "best_parameters2 = grid_search.best_params_\n",
    "# {'C': 0.8, 'gamma': 0.1, 'kernel': 'rbf'}"
   ]
  },
  {
   "cell_type": "code",
   "execution_count": 18,
   "metadata": {},
   "outputs": [
    {
     "data": {
      "text/plain": [
       "{'C': 0.8, 'gamma': 0.1, 'kernel': 'rbf'}"
      ]
     },
     "execution_count": 18,
     "metadata": {},
     "output_type": "execute_result"
    }
   ],
   "source": [
    "best_parameters2"
   ]
  },
  {
   "cell_type": "code",
   "execution_count": 19,
   "metadata": {},
   "outputs": [
    {
     "data": {
      "text/plain": [
       "0.9991964282509842"
      ]
     },
     "execution_count": 19,
     "metadata": {},
     "output_type": "execute_result"
    }
   ],
   "source": [
    "best_accuracy2"
   ]
  },
  {
   "cell_type": "code",
   "execution_count": 20,
   "metadata": {},
   "outputs": [
    {
     "data": {
      "text/plain": [
       "SVC(C=0.8, gamma=0.1, random_state=0)"
      ]
     },
     "execution_count": 20,
     "metadata": {},
     "output_type": "execute_result"
    }
   ],
   "source": [
    "# Need to reset to BEST PARAMETERS\n",
    "classifier = SVC(C = 0.8, kernel = 'rbf', gamma = 0.1,random_state = 0)\n",
    "classifier.fit(X_train, y_train)"
   ]
  },
  {
   "cell_type": "code",
   "execution_count": 21,
   "metadata": {},
   "outputs": [],
   "source": [
    "# Predicting the Test set results\n",
    "y_pred = classifier.predict(X_test)"
   ]
  },
  {
   "cell_type": "code",
   "execution_count": 22,
   "metadata": {},
   "outputs": [
    {
     "data": {
      "text/plain": [
       "array([[ 247,    0,    0,    0],\n",
       "       [   0,  189,    0,    1],\n",
       "       [   0,    0,  635,    0],\n",
       "       [   1,    1,    0, 1416]], dtype=int64)"
      ]
     },
     "execution_count": 22,
     "metadata": {},
     "output_type": "execute_result"
    }
   ],
   "source": [
    "# Making the Confusion Matrix\n",
    "cm = confusion_matrix(y_test, y_pred)\n",
    "cm"
   ]
  },
  {
   "cell_type": "code",
   "execution_count": 23,
   "metadata": {},
   "outputs": [
    {
     "data": {
      "image/png": "[encoded data removed]",
      "text/plain": [
       "<Figure size 1200x800 with 1 Axes>"
      ]
     },
     "metadata": {},
     "output_type": "display_data"
    }
   ],
   "source": [
    "# Visualising the Training set results\n",
    "from matplotlib.colors import ListedColormap\n",
    "X_set, y_set = X_train, y_train\n",
    "X1, X2 = np.meshgrid(np.arange(start = X_set[:, 0].min() - 1, stop = X_set[:, 0].max() + 1, step = 0.01),\n",
    "                     np.arange(start = X_set[:, 1].min() - 1, stop = X_set[:, 1].max() + 1, step = 0.01))\n",
    "plt.contourf(X1, X2, classifier.predict(np.array([X1.ravel(), X2.ravel()]).T).reshape(X1.shape),\n",
    "             alpha = 0.75, cmap = ListedColormap(('red', 'green','black','blue')))\n",
    "plt.xlim(X1.min(), X1.max())\n",
    "plt.ylim(X2.min(), X2.max())\n",
    "\n",
    "colors = np.array(['red', 'green','black','blue'])\n",
    "for i, j in enumerate(np.unique(y_set)):\n",
    "    X1=X_set[y_set == j, 0]\n",
    "    X2=X_set[y_set == j, 1]\n",
    "    cArray = np.full(X1.shape, i)  \n",
    "    plt.scatter(X1, X2, c = colors[cArray], label = j)\n",
    "    \n",
    "plt.title('Kernal SVM (Training set)',fontsize=25)\n",
    "plt.xlabel('PC1',fontsize=20)\n",
    "plt.ylabel('PC2',fontsize=20)\n",
    "plt.legend(fontsize=30)\n",
    "# Control Size\n",
    "fig = plt.gcf()\n",
    "fig.set_size_inches(12, 8)\n",
    "plt.show()"
   ]
  },
  {
   "cell_type": "code",
   "execution_count": 24,
   "metadata": {},
   "outputs": [
    {
     "data": {
      "image/png": "[encoded data removed]",
      "text/plain": [
       "<Figure size 1200x800 with 1 Axes>"
      ]
     },
     "metadata": {},
     "output_type": "display_data"
    }
   ],
   "source": [
    "# Visualising the Test set results\n",
    "from matplotlib.colors import ListedColormap\n",
    "X_set, y_set = X_test, y_test\n",
    "X1, X2 = np.meshgrid(np.arange(start = X_set[:, 0].min() - 1, stop = X_set[:, 0].max() + 1, step = 0.01),\n",
    "                     np.arange(start = X_set[:, 1].min() - 1, stop = X_set[:, 1].max() + 1, step = 0.01))\n",
    "plt.contourf(X1, X2, classifier.predict(np.array([X1.ravel(), X2.ravel()]).T).reshape(X1.shape),\n",
    "             alpha = 0.75, cmap = ListedColormap(('red', 'green','black','blue')))\n",
    "plt.xlim(X1.min(), X1.max())\n",
    "plt.ylim(X2.min(), X2.max())\n",
    "\n",
    "colors = np.array(['red', 'green','black','blue'])\n",
    "for i, j in enumerate(np.unique(y_set)):\n",
    "    X1=X_set[y_set == j, 0]\n",
    "    X2=X_set[y_set == j, 1]\n",
    "    cArray = np.full(X1.shape, i)  \n",
    "    plt.scatter(X1, X2, c = colors[cArray], label = j)\n",
    "    \n",
    "plt.title('Kernal SVM (Test set)',fontsize=25)\n",
    "plt.xlabel('PC1',fontsize=20)\n",
    "plt.ylabel('PC2',fontsize=20)\n",
    "plt.legend(fontsize=30)\n",
    "# Control Size\n",
    "fig = plt.gcf()\n",
    "fig.set_size_inches(12, 8)\n",
    "plt.show()"
   ]
  },
  {
   "cell_type": "code",
   "execution_count": null,
   "metadata": {},
   "outputs": [],
   "source": []
  }
 ],
 "metadata": {
  "kernelspec": {
   "display_name": "Python 3 (ipykernel)",
   "language": "python",
   "name": "python3"
  },
  "language_info": {
   "codemirror_mode": {
    "name": "ipython",
    "version": 3
   },
   "file_extension": ".py",
   "mimetype": "text/x-python",
   "name": "python",
   "nbconvert_exporter": "python",
   "pygments_lexer": "ipython3",
   "version": "3.9.13"
  }
 },
 "nbformat": 4,
 "nbformat_minor": 2
}
