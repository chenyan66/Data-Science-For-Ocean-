{
 "cells": [
  {
   "cell_type": "markdown",
   "metadata": {},
   "source": [
    "## Naive Bayes - Classifier"
   ]
  },
  {
   "cell_type": "markdown",
   "metadata": {},
   "source": [
    "### AIS Data – Activity Classification – Demo Data Extracted from Main Data"
   ]
  },
  {
   "cell_type": "code",
   "execution_count": 1,
   "metadata": {},
   "outputs": [],
   "source": [
    "#### INPUTS (X): VesselName, MMSI, VesselType, Length, Width, SOG\n",
    "##### MMSI --> Maritime Mobile Service Identity --> nine digits ID\n",
    "##### SOG --> Speed Over Ground\n",
    "##### OUTPUT (y): Status\n",
    "#####             0 - 'engaged in fishing‘\n",
    "#####             1 - 'under way using engine‘\n",
    "#####             2 - 'undefined‘\n",
    "#####             3 - 'at anchor'"
   ]
  },
  {
   "cell_type": "code",
   "execution_count": 2,
   "metadata": {},
   "outputs": [],
   "source": [
    "# Importing the libraries\n",
    "import numpy as np\n",
    "import matplotlib.pyplot as plt\n",
    "import pandas as pd"
   ]
  },
  {
   "cell_type": "code",
   "execution_count": 3,
   "metadata": {},
   "outputs": [
    {
     "data": {
      "text/html": [
       "<div>\n",
       "<style scoped>\n",
       "    .dataframe tbody tr th:only-of-type {\n",
       "        vertical-align: middle;\n",
       "    }\n",
       "\n",
       "    .dataframe tbody tr th {\n",
       "        vertical-align: top;\n",
       "    }\n",
       "\n",
       "    .dataframe thead th {\n",
       "        text-align: right;\n",
       "    }\n",
       "</style>\n",
       "<table border=\"1\" class=\"dataframe\">\n",
       "  <thead>\n",
       "    <tr style=\"text-align: right;\">\n",
       "      <th></th>\n",
       "      <th>VesselName</th>\n",
       "      <th>MMSI</th>\n",
       "      <th>VesselType</th>\n",
       "      <th>Length</th>\n",
       "      <th>Width</th>\n",
       "      <th>SOG</th>\n",
       "      <th>Status</th>\n",
       "    </tr>\n",
       "  </thead>\n",
       "  <tbody>\n",
       "    <tr>\n",
       "      <th>0</th>\n",
       "      <td>ALEUTIAN NO 1</td>\n",
       "      <td>366988820</td>\n",
       "      <td>1001</td>\n",
       "      <td>37.22</td>\n",
       "      <td>9.73</td>\n",
       "      <td>9.2</td>\n",
       "      <td>engaged in fishing</td>\n",
       "    </tr>\n",
       "    <tr>\n",
       "      <th>1</th>\n",
       "      <td>ALEUTIAN NO 1</td>\n",
       "      <td>366988820</td>\n",
       "      <td>1001</td>\n",
       "      <td>37.22</td>\n",
       "      <td>9.73</td>\n",
       "      <td>9.6</td>\n",
       "      <td>engaged in fishing</td>\n",
       "    </tr>\n",
       "    <tr>\n",
       "      <th>2</th>\n",
       "      <td>ALEUTIAN NO 1</td>\n",
       "      <td>366988820</td>\n",
       "      <td>1001</td>\n",
       "      <td>37.22</td>\n",
       "      <td>9.73</td>\n",
       "      <td>9.3</td>\n",
       "      <td>engaged in fishing</td>\n",
       "    </tr>\n",
       "    <tr>\n",
       "      <th>3</th>\n",
       "      <td>ALEUTIAN NO 1</td>\n",
       "      <td>366988820</td>\n",
       "      <td>1001</td>\n",
       "      <td>37.22</td>\n",
       "      <td>9.73</td>\n",
       "      <td>9.5</td>\n",
       "      <td>engaged in fishing</td>\n",
       "    </tr>\n",
       "    <tr>\n",
       "      <th>4</th>\n",
       "      <td>ALEUTIAN NO 1</td>\n",
       "      <td>366988820</td>\n",
       "      <td>1001</td>\n",
       "      <td>37.22</td>\n",
       "      <td>9.73</td>\n",
       "      <td>9.6</td>\n",
       "      <td>engaged in fishing</td>\n",
       "    </tr>\n",
       "  </tbody>\n",
       "</table>\n",
       "</div>"
      ],
      "text/plain": [
       "      VesselName       MMSI  VesselType  Length  Width  SOG  \\\n",
       "0  ALEUTIAN NO 1  366988820        1001   37.22   9.73  9.2   \n",
       "1  ALEUTIAN NO 1  366988820        1001   37.22   9.73  9.6   \n",
       "2  ALEUTIAN NO 1  366988820        1001   37.22   9.73  9.3   \n",
       "3  ALEUTIAN NO 1  366988820        1001   37.22   9.73  9.5   \n",
       "4  ALEUTIAN NO 1  366988820        1001   37.22   9.73  9.6   \n",
       "\n",
       "               Status  \n",
       "0  engaged in fishing  \n",
       "1  engaged in fishing  \n",
       "2  engaged in fishing  \n",
       "3  engaged in fishing  \n",
       "4  engaged in fishing  "
      ]
     },
     "execution_count": 3,
     "metadata": {},
     "output_type": "execute_result"
    }
   ],
   "source": [
    "# Importing the dataset\n",
    "dataset = pd.read_csv('AIS_2017_01_Zone01.csv')\n",
    "dataset.head()"
   ]
  },
  {
   "cell_type": "code",
   "execution_count": 4,
   "metadata": {},
   "outputs": [
    {
     "data": {
      "text/html": [
       "<div>\n",
       "<style scoped>\n",
       "    .dataframe tbody tr th:only-of-type {\n",
       "        vertical-align: middle;\n",
       "    }\n",
       "\n",
       "    .dataframe tbody tr th {\n",
       "        vertical-align: top;\n",
       "    }\n",
       "\n",
       "    .dataframe thead th {\n",
       "        text-align: right;\n",
       "    }\n",
       "</style>\n",
       "<table border=\"1\" class=\"dataframe\">\n",
       "  <thead>\n",
       "    <tr style=\"text-align: right;\">\n",
       "      <th></th>\n",
       "      <th>VesselName</th>\n",
       "      <th>MMSI</th>\n",
       "      <th>VesselType</th>\n",
       "      <th>Length</th>\n",
       "      <th>Width</th>\n",
       "      <th>SOG</th>\n",
       "      <th>Status</th>\n",
       "    </tr>\n",
       "  </thead>\n",
       "  <tbody>\n",
       "    <tr>\n",
       "      <th>9952</th>\n",
       "      <td>WESTWOOD PACIFIC</td>\n",
       "      <td>211517000</td>\n",
       "      <td>1004</td>\n",
       "      <td>183.2</td>\n",
       "      <td>29.94</td>\n",
       "      <td>13.0</td>\n",
       "      <td>under way using engine</td>\n",
       "    </tr>\n",
       "    <tr>\n",
       "      <th>9953</th>\n",
       "      <td>WESTWOOD PACIFIC</td>\n",
       "      <td>211517000</td>\n",
       "      <td>1004</td>\n",
       "      <td>183.2</td>\n",
       "      <td>29.94</td>\n",
       "      <td>13.1</td>\n",
       "      <td>under way using engine</td>\n",
       "    </tr>\n",
       "    <tr>\n",
       "      <th>9954</th>\n",
       "      <td>WESTWOOD PACIFIC</td>\n",
       "      <td>211517000</td>\n",
       "      <td>1004</td>\n",
       "      <td>183.2</td>\n",
       "      <td>29.94</td>\n",
       "      <td>13.1</td>\n",
       "      <td>under way using engine</td>\n",
       "    </tr>\n",
       "    <tr>\n",
       "      <th>9955</th>\n",
       "      <td>WESTWOOD PACIFIC</td>\n",
       "      <td>211517000</td>\n",
       "      <td>1004</td>\n",
       "      <td>183.2</td>\n",
       "      <td>29.94</td>\n",
       "      <td>13.1</td>\n",
       "      <td>under way using engine</td>\n",
       "    </tr>\n",
       "    <tr>\n",
       "      <th>9956</th>\n",
       "      <td>WESTWOOD PACIFIC</td>\n",
       "      <td>211517000</td>\n",
       "      <td>1004</td>\n",
       "      <td>183.2</td>\n",
       "      <td>29.94</td>\n",
       "      <td>13.1</td>\n",
       "      <td>under way using engine</td>\n",
       "    </tr>\n",
       "  </tbody>\n",
       "</table>\n",
       "</div>"
      ],
      "text/plain": [
       "            VesselName       MMSI  VesselType  Length  Width   SOG  \\\n",
       "9952  WESTWOOD PACIFIC  211517000        1004   183.2  29.94  13.0   \n",
       "9953  WESTWOOD PACIFIC  211517000        1004   183.2  29.94  13.1   \n",
       "9954  WESTWOOD PACIFIC  211517000        1004   183.2  29.94  13.1   \n",
       "9955  WESTWOOD PACIFIC  211517000        1004   183.2  29.94  13.1   \n",
       "9956  WESTWOOD PACIFIC  211517000        1004   183.2  29.94  13.1   \n",
       "\n",
       "                      Status  \n",
       "9952  under way using engine  \n",
       "9953  under way using engine  \n",
       "9954  under way using engine  \n",
       "9955  under way using engine  \n",
       "9956  under way using engine  "
      ]
     },
     "execution_count": 4,
     "metadata": {},
     "output_type": "execute_result"
    }
   ],
   "source": [
    "dataset.tail()"
   ]
  },
  {
   "cell_type": "code",
   "execution_count": 5,
   "metadata": {},
   "outputs": [
    {
     "name": "stdout",
     "output_type": "stream",
     "text": [
      "['engaged in fishing' 'engaged in fishing' 'engaged in fishing']\n"
     ]
    }
   ],
   "source": [
    "X = dataset.iloc[:, 1:-1].values\n",
    "y = dataset.iloc[:, -1].values\n",
    "print(y[0:3])"
   ]
  },
  {
   "cell_type": "code",
   "execution_count": 6,
   "metadata": {},
   "outputs": [
    {
     "name": "stdout",
     "output_type": "stream",
     "text": [
      "[1 1 1]\n"
     ]
    }
   ],
   "source": [
    "## Categories\n",
    "# {'engaged in fishing','under way using engine','undefined','at anchor'}\n",
    "# Encoding categorical data\n",
    "from sklearn.preprocessing import LabelEncoder\n",
    "labelencoder_y = LabelEncoder()\n",
    "y = labelencoder_y.fit_transform(y)\n",
    "print(y[0:3])"
   ]
  },
  {
   "cell_type": "code",
   "execution_count": 7,
   "metadata": {},
   "outputs": [],
   "source": [
    "# Splitting the dataset into the Training set and Test set\n",
    "from sklearn.model_selection import train_test_split\n",
    "X_train, X_test, y_train, y_test = train_test_split(X, y, test_size = 0.25, random_state = 0)"
   ]
  },
  {
   "cell_type": "code",
   "execution_count": 8,
   "metadata": {},
   "outputs": [],
   "source": [
    "# Feature Scaling\n",
    "from sklearn.preprocessing import StandardScaler\n",
    "sc = StandardScaler()\n",
    "X_train = sc.fit_transform(X_train)\n",
    "X_test = sc.transform(X_test)"
   ]
  },
  {
   "cell_type": "code",
   "execution_count": 9,
   "metadata": {},
   "outputs": [
    {
     "data": {
      "text/plain": [
       "GaussianNB()"
      ]
     },
     "execution_count": 9,
     "metadata": {},
     "output_type": "execute_result"
    }
   ],
   "source": [
    "# Fitting Naive Bayes to the Training set\n",
    "from sklearn.naive_bayes import GaussianNB\n",
    "classifier = GaussianNB()\n",
    "classifier.fit(X_train, y_train)"
   ]
  },
  {
   "cell_type": "code",
   "execution_count": 10,
   "metadata": {},
   "outputs": [],
   "source": [
    "# Predicting the Test set results\n",
    "y_pred = classifier.predict(X_test)"
   ]
  },
  {
   "cell_type": "code",
   "execution_count": 11,
   "metadata": {},
   "outputs": [
    {
     "name": "stdout",
     "output_type": "stream",
     "text": [
      "[[ 247    0    0    0]\n",
      " [   0  189    0    1]\n",
      " [   0    0  634    1]\n",
      " [   0    0    0 1418]]\n"
     ]
    }
   ],
   "source": [
    "# Making the Confusion Matrix\n",
    "from sklearn.metrics import confusion_matrix\n",
    "cm = confusion_matrix(y_test, y_pred)\n",
    "print(cm)"
   ]
  },
  {
   "cell_type": "code",
   "execution_count": 12,
   "metadata": {},
   "outputs": [
    {
     "data": {
      "text/plain": [
       "0.998928690633849"
      ]
     },
     "execution_count": 12,
     "metadata": {},
     "output_type": "execute_result"
    }
   ],
   "source": [
    "# Applying k-Fold Cross Validation\n",
    "from sklearn.model_selection import cross_val_score\n",
    "accuracies = cross_val_score(estimator = classifier, X = X_train, y = y_train, cv = 10)\n",
    "accuracies.mean()"
   ]
  },
  {
   "cell_type": "code",
   "execution_count": 13,
   "metadata": {},
   "outputs": [
    {
     "data": {
      "text/plain": [
       "0.0011675356289698835"
      ]
     },
     "execution_count": 13,
     "metadata": {},
     "output_type": "execute_result"
    }
   ],
   "source": [
    "accuracies.std()"
   ]
  }
 ],
 "metadata": {
  "kernelspec": {
   "display_name": "Python 3 (ipykernel)",
   "language": "python",
   "name": "python3"
  },
  "language_info": {
   "codemirror_mode": {
    "name": "ipython",
    "version": 3
   },
   "file_extension": ".py",
   "mimetype": "text/x-python",
   "name": "python",
   "nbconvert_exporter": "python",
   "pygments_lexer": "ipython3",
   "version": "3.9.13"
  }
 },
 "nbformat": 4,
 "nbformat_minor": 2
}
