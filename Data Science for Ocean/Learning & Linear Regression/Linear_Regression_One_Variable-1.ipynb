{
 "cells": [
  {
   "cell_type": "markdown",
   "metadata": {},
   "source": [
    "# Linear Regression with one variable"
   ]
  },
  {
   "cell_type": "markdown",
   "metadata": {},
   "source": [
    "__First we need some data. Let us use the oceanographic data provided on Canvas.__ __\"m3mt1.cnv2Oceanography.xlsx\"__\n",
    "\n",
    "Data from: http://adcp.tamu.edu/~stevendimarco/OCNG657/data_portal.html \n",
    "\n",
    "__Below is the file description.__\n",
    "\n",
    "\n",
    "*******************************************************************\n",
    "** Program Title: Mechanisms Controlling Hypoxia                 **\n",
    "**                    on the Louisiana Shelf                     **\n",
    "**                                                               **\n",
    "** Sponsored by: National Oceanic and Atmospheric Administration **\n",
    "**               Center for Sponsored Coastal Ocean Research     **\n",
    "**               Coastal Ocean Program                           **\n",
    "**               NOAA/CSCOR/COP NA03NOS4780039                   **\n",
    "**                                                               **\n",
    "** Conducted by: Dept. of Oceanography, Texas A&M University     **\n",
    "**                                                               **\n",
    "** Archived by : The National Oceanograpic Data Center (NODC)    **\n",
    "**               NODC Project Code 0490                          **\n",
    "**                                                               **\n",
    "** For questions regarding these data please contact:            **\n",
    "** Dr. Matthew K. Howard                                         **\n",
    "** Department of Oceanography, Texas A&M University              **\n",
    "** College Station, TX 77843-3146                                **\n",
    "** (979)-862-4169 (voice), email: mkhoward@tamu.edu              **\n",
    "*******************************************************************\n",
    "CTD PROFILE DATA\n",
    "PLATFORM       : R/V GYRE CRUISE 04G08\n",
    "MCHCRUISE ID   : M3\n",
    "STATION NAME   :     m3mt1\n",
    "STATION NUMBER : 028\n",
    "CAST DATE-TIME : 08/23/2004 10:03 MM/DD/YYYY HH:MM UTC\n",
    "LATITUDE       :  28.5420 N\n",
    "LONGITUDE      :  89.8287 W\n",
    "CAST DEPTH (m) :  449.5\n",
    "WATER DEPTH (m):  484.5\n",
    "INSTRUMENT TYPE: Sea-Bird SBE-911-Plus\n",
    "SBE Software   : SBE Data Processing V5.37b\n",
    "RAW DATA FILE  :    m3mt1.cnv\n",
    "**********************************************************\n",
    "* Column  1: Pressure (Digiquartz, db)\n",
    "* Column  2: Depth (salt water, meters)\n",
    "* Column  3: Temperature (ITS-90, deg C)\n",
    "* Column  4: Potential temperature (ITS-90, deg C)\n",
    "* Column  5: Conductivity (S/m)\n",
    "* Column  6: Salinity (PSS-78 psu)\n",
    "* Column  7: Sigma-theta (kg/m^3)\n",
    "* Column  8: Dissolved Oxygen (SBE 43 ml/l)\n",
    "* Column  9: Dissolved Oxygen (SBE 43 volts)\n",
    "* Column 10: Transmission (percent)\n",
    "* Column 11: Transmission (volts)\n",
    "* Column 12: Irradiance (PAR, microEinsteins/m^2/sec)\n",
    "* Column 13: Irradiance (PAR, Biospherical/Licor, volts)\n",
    "* Column 14: Fluorescence (Chelsea Aqua 3, Chl Con ug/l)\n",
    "* Column 15: Fluorescence (Chelsea Aqua 3, volts)\n",
    "* Column 16: Optical Backscatter (OBS, particle concentration mg/l)\n",
    "* Column 17: Optical Backscatter (OBS, volts)\n",
    "**********************************************************"
   ]
  },
  {
   "cell_type": "markdown",
   "metadata": {},
   "source": [
    "__Let's start by importing some libraries and examining the data.__"
   ]
  },
  {
   "cell_type": "code",
   "execution_count": 1,
   "metadata": {},
   "outputs": [],
   "source": [
    "import numpy as np\n",
    "import pandas as pd\n",
    "import matplotlib.pyplot as plt\n",
    "%matplotlib inline"
   ]
  },
  {
   "cell_type": "markdown",
   "metadata": {},
   "source": [
    "__Let us set Path and Read All data from Excel File__"
   ]
  },
  {
   "cell_type": "code",
   "execution_count": 2,
   "metadata": {},
   "outputs": [
    {
     "data": {
      "text/html": [
       "<div>\n",
       "<style scoped>\n",
       "    .dataframe tbody tr th:only-of-type {\n",
       "        vertical-align: middle;\n",
       "    }\n",
       "\n",
       "    .dataframe tbody tr th {\n",
       "        vertical-align: top;\n",
       "    }\n",
       "\n",
       "    .dataframe thead th {\n",
       "        text-align: right;\n",
       "    }\n",
       "</style>\n",
       "<table border=\"1\" class=\"dataframe\">\n",
       "  <thead>\n",
       "    <tr style=\"text-align: right;\">\n",
       "      <th></th>\n",
       "      <th>Press</th>\n",
       "      <th>Depth</th>\n",
       "      <th>Temp</th>\n",
       "      <th>PoTemp</th>\n",
       "      <th>Cond</th>\n",
       "      <th>Sal</th>\n",
       "      <th>Sig-Th</th>\n",
       "      <th>O2</th>\n",
       "      <th>O2V</th>\n",
       "      <th>%Tran</th>\n",
       "      <th>Tran-V</th>\n",
       "      <th>PAR</th>\n",
       "      <th>PAR-V</th>\n",
       "      <th>FL</th>\n",
       "      <th>FL-V</th>\n",
       "      <th>OBS</th>\n",
       "      <th>OBS-V</th>\n",
       "    </tr>\n",
       "  </thead>\n",
       "  <tbody>\n",
       "    <tr>\n",
       "      <th>0</th>\n",
       "      <td>2.029</td>\n",
       "      <td>2.0</td>\n",
       "      <td>29.2181</td>\n",
       "      <td>29.2176</td>\n",
       "      <td>5.117671</td>\n",
       "      <td>30.6912</td>\n",
       "      <td>18.7610</td>\n",
       "      <td>3.11825</td>\n",
       "      <td>2.6277</td>\n",
       "      <td>87.1428</td>\n",
       "      <td>4.3332</td>\n",
       "      <td>2.46</td>\n",
       "      <td>0</td>\n",
       "      <td>0.2988</td>\n",
       "      <td>1.5512</td>\n",
       "      <td>2.1956</td>\n",
       "      <td>1.4638</td>\n",
       "    </tr>\n",
       "    <tr>\n",
       "      <th>1</th>\n",
       "      <td>2.515</td>\n",
       "      <td>2.5</td>\n",
       "      <td>29.1836</td>\n",
       "      <td>29.1830</td>\n",
       "      <td>5.155940</td>\n",
       "      <td>30.9706</td>\n",
       "      <td>18.9817</td>\n",
       "      <td>3.03783</td>\n",
       "      <td>2.5782</td>\n",
       "      <td>87.4587</td>\n",
       "      <td>4.3488</td>\n",
       "      <td>2.46</td>\n",
       "      <td>0</td>\n",
       "      <td>0.3110</td>\n",
       "      <td>1.5668</td>\n",
       "      <td>2.2090</td>\n",
       "      <td>1.4727</td>\n",
       "    </tr>\n",
       "    <tr>\n",
       "      <th>2</th>\n",
       "      <td>3.022</td>\n",
       "      <td>3.0</td>\n",
       "      <td>29.0726</td>\n",
       "      <td>29.0719</td>\n",
       "      <td>5.250992</td>\n",
       "      <td>31.6847</td>\n",
       "      <td>19.5534</td>\n",
       "      <td>2.97902</td>\n",
       "      <td>2.5406</td>\n",
       "      <td>88.4276</td>\n",
       "      <td>4.3963</td>\n",
       "      <td>2.46</td>\n",
       "      <td>0</td>\n",
       "      <td>0.3183</td>\n",
       "      <td>1.5756</td>\n",
       "      <td>2.1757</td>\n",
       "      <td>1.4505</td>\n",
       "    </tr>\n",
       "    <tr>\n",
       "      <th>3</th>\n",
       "      <td>3.523</td>\n",
       "      <td>3.5</td>\n",
       "      <td>29.0585</td>\n",
       "      <td>29.0577</td>\n",
       "      <td>5.256201</td>\n",
       "      <td>31.7292</td>\n",
       "      <td>19.5914</td>\n",
       "      <td>2.97916</td>\n",
       "      <td>2.5412</td>\n",
       "      <td>89.1755</td>\n",
       "      <td>4.4330</td>\n",
       "      <td>2.46</td>\n",
       "      <td>0</td>\n",
       "      <td>0.2836</td>\n",
       "      <td>1.5293</td>\n",
       "      <td>2.1541</td>\n",
       "      <td>1.4361</td>\n",
       "    </tr>\n",
       "    <tr>\n",
       "      <th>4</th>\n",
       "      <td>4.027</td>\n",
       "      <td>4.0</td>\n",
       "      <td>29.0545</td>\n",
       "      <td>29.0535</td>\n",
       "      <td>5.270189</td>\n",
       "      <td>31.8264</td>\n",
       "      <td>19.6657</td>\n",
       "      <td>2.97309</td>\n",
       "      <td>2.5384</td>\n",
       "      <td>89.8300</td>\n",
       "      <td>4.4651</td>\n",
       "      <td>2.46</td>\n",
       "      <td>0</td>\n",
       "      <td>0.2275</td>\n",
       "      <td>1.4397</td>\n",
       "      <td>2.1493</td>\n",
       "      <td>1.4329</td>\n",
       "    </tr>\n",
       "  </tbody>\n",
       "</table>\n",
       "</div>"
      ],
      "text/plain": [
       "   Press  Depth     Temp   PoTemp      Cond      Sal   Sig-Th       O2  \\\n",
       "0  2.029    2.0  29.2181  29.2176  5.117671  30.6912  18.7610  3.11825   \n",
       "1  2.515    2.5  29.1836  29.1830  5.155940  30.9706  18.9817  3.03783   \n",
       "2  3.022    3.0  29.0726  29.0719  5.250992  31.6847  19.5534  2.97902   \n",
       "3  3.523    3.5  29.0585  29.0577  5.256201  31.7292  19.5914  2.97916   \n",
       "4  4.027    4.0  29.0545  29.0535  5.270189  31.8264  19.6657  2.97309   \n",
       "\n",
       "      O2V    %Tran  Tran-V   PAR  PAR-V      FL    FL-V     OBS   OBS-V  \n",
       "0  2.6277  87.1428  4.3332  2.46      0  0.2988  1.5512  2.1956  1.4638  \n",
       "1  2.5782  87.4587  4.3488  2.46      0  0.3110  1.5668  2.2090  1.4727  \n",
       "2  2.5406  88.4276  4.3963  2.46      0  0.3183  1.5756  2.1757  1.4505  \n",
       "3  2.5412  89.1755  4.4330  2.46      0  0.2836  1.5293  2.1541  1.4361  \n",
       "4  2.5384  89.8300  4.4651  2.46      0  0.2275  1.4397  2.1493  1.4329  "
      ]
     },
     "execution_count": 2,
     "metadata": {},
     "output_type": "execute_result"
    }
   ],
   "source": [
    "import os\n",
    "path = os.getcwd() + '\\\\m3mt1.cnv2Oceanography.xlsx'\n",
    "# https://pandas.pydata.org/pandas-docs/stable/reference/api/pandas.read_excel.html\n",
    "data = pd.read_excel(path, sheet_name='Data', header=0)\n",
    "data.head()"
   ]
  },
  {
   "cell_type": "code",
   "execution_count": 3,
   "metadata": {},
   "outputs": [
    {
     "data": {
      "text/html": [
       "<div>\n",
       "<style scoped>\n",
       "    .dataframe tbody tr th:only-of-type {\n",
       "        vertical-align: middle;\n",
       "    }\n",
       "\n",
       "    .dataframe tbody tr th {\n",
       "        vertical-align: top;\n",
       "    }\n",
       "\n",
       "    .dataframe thead th {\n",
       "        text-align: right;\n",
       "    }\n",
       "</style>\n",
       "<table border=\"1\" class=\"dataframe\">\n",
       "  <thead>\n",
       "    <tr style=\"text-align: right;\">\n",
       "      <th></th>\n",
       "      <th>Press</th>\n",
       "      <th>Depth</th>\n",
       "      <th>Temp</th>\n",
       "      <th>PoTemp</th>\n",
       "      <th>Cond</th>\n",
       "      <th>Sal</th>\n",
       "      <th>Sig-Th</th>\n",
       "      <th>O2</th>\n",
       "      <th>O2V</th>\n",
       "      <th>%Tran</th>\n",
       "      <th>Tran-V</th>\n",
       "      <th>PAR</th>\n",
       "      <th>PAR-V</th>\n",
       "      <th>FL</th>\n",
       "      <th>FL-V</th>\n",
       "      <th>OBS</th>\n",
       "      <th>OBS-V</th>\n",
       "    </tr>\n",
       "  </thead>\n",
       "  <tbody>\n",
       "    <tr>\n",
       "      <th>count</th>\n",
       "      <td>896.000000</td>\n",
       "      <td>896.000000</td>\n",
       "      <td>896.000000</td>\n",
       "      <td>896.000000</td>\n",
       "      <td>896.000000</td>\n",
       "      <td>896.000000</td>\n",
       "      <td>896.000000</td>\n",
       "      <td>896.000000</td>\n",
       "      <td>896.000000</td>\n",
       "      <td>896.000000</td>\n",
       "      <td>896.000000</td>\n",
       "      <td>8.960000e+02</td>\n",
       "      <td>896.0</td>\n",
       "      <td>896.000000</td>\n",
       "      <td>896.000000</td>\n",
       "      <td>896.000000</td>\n",
       "      <td>896.000000</td>\n",
       "    </tr>\n",
       "    <tr>\n",
       "      <th>mean</th>\n",
       "      <td>227.437128</td>\n",
       "      <td>225.750000</td>\n",
       "      <td>13.987610</td>\n",
       "      <td>13.959502</td>\n",
       "      <td>4.273966</td>\n",
       "      <td>35.518684</td>\n",
       "      <td>26.432914</td>\n",
       "      <td>2.116258</td>\n",
       "      <td>1.666944</td>\n",
       "      <td>91.666946</td>\n",
       "      <td>4.555173</td>\n",
       "      <td>2.460000e+00</td>\n",
       "      <td>0.0</td>\n",
       "      <td>0.045333</td>\n",
       "      <td>0.770554</td>\n",
       "      <td>2.183024</td>\n",
       "      <td>1.455349</td>\n",
       "    </tr>\n",
       "    <tr>\n",
       "      <th>std</th>\n",
       "      <td>130.413729</td>\n",
       "      <td>129.398609</td>\n",
       "      <td>5.986231</td>\n",
       "      <td>5.997882</td>\n",
       "      <td>0.632747</td>\n",
       "      <td>0.667571</td>\n",
       "      <td>1.381254</td>\n",
       "      <td>0.509307</td>\n",
       "      <td>0.441299</td>\n",
       "      <td>1.970224</td>\n",
       "      <td>0.096622</td>\n",
       "      <td>2.577156e-14</td>\n",
       "      <td>0.0</td>\n",
       "      <td>0.052405</td>\n",
       "      <td>0.229042</td>\n",
       "      <td>0.110986</td>\n",
       "      <td>0.073990</td>\n",
       "    </tr>\n",
       "    <tr>\n",
       "      <th>min</th>\n",
       "      <td>2.029000</td>\n",
       "      <td>2.000000</td>\n",
       "      <td>8.329600</td>\n",
       "      <td>8.281900</td>\n",
       "      <td>3.673362</td>\n",
       "      <td>30.691200</td>\n",
       "      <td>18.761000</td>\n",
       "      <td>1.775910</td>\n",
       "      <td>1.350400</td>\n",
       "      <td>83.074700</td>\n",
       "      <td>4.133800</td>\n",
       "      <td>2.460000e+00</td>\n",
       "      <td>0.0</td>\n",
       "      <td>0.012000</td>\n",
       "      <td>0.525700</td>\n",
       "      <td>2.022100</td>\n",
       "      <td>1.348100</td>\n",
       "    </tr>\n",
       "    <tr>\n",
       "      <th>25%</th>\n",
       "      <td>114.670250</td>\n",
       "      <td>113.875000</td>\n",
       "      <td>9.692125</td>\n",
       "      <td>9.653025</td>\n",
       "      <td>3.811639</td>\n",
       "      <td>35.161925</td>\n",
       "      <td>26.409375</td>\n",
       "      <td>1.804960</td>\n",
       "      <td>1.383100</td>\n",
       "      <td>91.865875</td>\n",
       "      <td>4.564900</td>\n",
       "      <td>2.460000e+00</td>\n",
       "      <td>0.0</td>\n",
       "      <td>0.020300</td>\n",
       "      <td>0.632275</td>\n",
       "      <td>2.149600</td>\n",
       "      <td>1.433125</td>\n",
       "    </tr>\n",
       "    <tr>\n",
       "      <th>50%</th>\n",
       "      <td>227.396500</td>\n",
       "      <td>225.750000</td>\n",
       "      <td>11.241500</td>\n",
       "      <td>11.212900</td>\n",
       "      <td>3.976329</td>\n",
       "      <td>35.361100</td>\n",
       "      <td>27.038250</td>\n",
       "      <td>1.875055</td>\n",
       "      <td>1.459000</td>\n",
       "      <td>92.485700</td>\n",
       "      <td>4.595300</td>\n",
       "      <td>2.460000e+00</td>\n",
       "      <td>0.0</td>\n",
       "      <td>0.023600</td>\n",
       "      <td>0.668900</td>\n",
       "      <td>2.168050</td>\n",
       "      <td>1.445350</td>\n",
       "    </tr>\n",
       "    <tr>\n",
       "      <th>75%</th>\n",
       "      <td>340.181250</td>\n",
       "      <td>337.625000</td>\n",
       "      <td>17.272375</td>\n",
       "      <td>17.253075</td>\n",
       "      <td>4.665140</td>\n",
       "      <td>36.089625</td>\n",
       "      <td>27.143700</td>\n",
       "      <td>2.095650</td>\n",
       "      <td>1.712625</td>\n",
       "      <td>92.664100</td>\n",
       "      <td>4.604025</td>\n",
       "      <td>2.460000e+00</td>\n",
       "      <td>0.0</td>\n",
       "      <td>0.042725</td>\n",
       "      <td>0.832550</td>\n",
       "      <td>2.189625</td>\n",
       "      <td>1.459725</td>\n",
       "    </tr>\n",
       "    <tr>\n",
       "      <th>max</th>\n",
       "      <td>453.022000</td>\n",
       "      <td>449.500000</td>\n",
       "      <td>29.658200</td>\n",
       "      <td>29.655600</td>\n",
       "      <td>5.931757</td>\n",
       "      <td>36.439500</td>\n",
       "      <td>27.240200</td>\n",
       "      <td>3.494720</td>\n",
       "      <td>2.780300</td>\n",
       "      <td>92.883800</td>\n",
       "      <td>4.614900</td>\n",
       "      <td>2.460000e+00</td>\n",
       "      <td>0.0</td>\n",
       "      <td>0.318300</td>\n",
       "      <td>1.575600</td>\n",
       "      <td>2.667200</td>\n",
       "      <td>1.778200</td>\n",
       "    </tr>\n",
       "  </tbody>\n",
       "</table>\n",
       "</div>"
      ],
      "text/plain": [
       "            Press       Depth        Temp      PoTemp        Cond         Sal  \\\n",
       "count  896.000000  896.000000  896.000000  896.000000  896.000000  896.000000   \n",
       "mean   227.437128  225.750000   13.987610   13.959502    4.273966   35.518684   \n",
       "std    130.413729  129.398609    5.986231    5.997882    0.632747    0.667571   \n",
       "min      2.029000    2.000000    8.329600    8.281900    3.673362   30.691200   \n",
       "25%    114.670250  113.875000    9.692125    9.653025    3.811639   35.161925   \n",
       "50%    227.396500  225.750000   11.241500   11.212900    3.976329   35.361100   \n",
       "75%    340.181250  337.625000   17.272375   17.253075    4.665140   36.089625   \n",
       "max    453.022000  449.500000   29.658200   29.655600    5.931757   36.439500   \n",
       "\n",
       "           Sig-Th          O2         O2V       %Tran      Tran-V  \\\n",
       "count  896.000000  896.000000  896.000000  896.000000  896.000000   \n",
       "mean    26.432914    2.116258    1.666944   91.666946    4.555173   \n",
       "std      1.381254    0.509307    0.441299    1.970224    0.096622   \n",
       "min     18.761000    1.775910    1.350400   83.074700    4.133800   \n",
       "25%     26.409375    1.804960    1.383100   91.865875    4.564900   \n",
       "50%     27.038250    1.875055    1.459000   92.485700    4.595300   \n",
       "75%     27.143700    2.095650    1.712625   92.664100    4.604025   \n",
       "max     27.240200    3.494720    2.780300   92.883800    4.614900   \n",
       "\n",
       "                PAR  PAR-V          FL        FL-V         OBS       OBS-V  \n",
       "count  8.960000e+02  896.0  896.000000  896.000000  896.000000  896.000000  \n",
       "mean   2.460000e+00    0.0    0.045333    0.770554    2.183024    1.455349  \n",
       "std    2.577156e-14    0.0    0.052405    0.229042    0.110986    0.073990  \n",
       "min    2.460000e+00    0.0    0.012000    0.525700    2.022100    1.348100  \n",
       "25%    2.460000e+00    0.0    0.020300    0.632275    2.149600    1.433125  \n",
       "50%    2.460000e+00    0.0    0.023600    0.668900    2.168050    1.445350  \n",
       "75%    2.460000e+00    0.0    0.042725    0.832550    2.189625    1.459725  \n",
       "max    2.460000e+00    0.0    0.318300    1.575600    2.667200    1.778200  "
      ]
     },
     "execution_count": 3,
     "metadata": {},
     "output_type": "execute_result"
    }
   ],
   "source": [
    "data.describe()"
   ]
  },
  {
   "cell_type": "code",
   "execution_count": 4,
   "metadata": {},
   "outputs": [
    {
     "data": {
      "text/plain": [
       "<AxesSubplot:xlabel='Depth', ylabel='Cond'>"
      ]
     },
     "execution_count": 4,
     "metadata": {},
     "output_type": "execute_result"
    },
    {
     "data": {
      "image/png": "[encoded data removed]",
      "text/plain": [
       "<Figure size 1200x800 with 1 Axes>"
      ]
     },
     "metadata": {},
     "output_type": "display_data"
    }
   ],
   "source": [
    "data.plot(kind='scatter', x='Depth', y='Cond', figsize=(12,8))"
   ]
  },
  {
   "cell_type": "markdown",
   "metadata": {},
   "source": [
    "__Extract Required Data__"
   ]
  },
  {
   "cell_type": "code",
   "execution_count": 5,
   "metadata": {},
   "outputs": [],
   "source": [
    "XY = data.loc[:, ['Depth','Cond']]"
   ]
  },
  {
   "cell_type": "code",
   "execution_count": 6,
   "metadata": {},
   "outputs": [],
   "source": [
    "XY = XY[XY.Depth>200]"
   ]
  },
  {
   "cell_type": "code",
   "execution_count": 7,
   "metadata": {},
   "outputs": [
    {
     "data": {
      "text/html": [
       "<div>\n",
       "<style scoped>\n",
       "    .dataframe tbody tr th:only-of-type {\n",
       "        vertical-align: middle;\n",
       "    }\n",
       "\n",
       "    .dataframe tbody tr th {\n",
       "        vertical-align: top;\n",
       "    }\n",
       "\n",
       "    .dataframe thead th {\n",
       "        text-align: right;\n",
       "    }\n",
       "</style>\n",
       "<table border=\"1\" class=\"dataframe\">\n",
       "  <thead>\n",
       "    <tr style=\"text-align: right;\">\n",
       "      <th></th>\n",
       "      <th>Depth</th>\n",
       "      <th>Cond</th>\n",
       "    </tr>\n",
       "  </thead>\n",
       "  <tbody>\n",
       "    <tr>\n",
       "      <th>397</th>\n",
       "      <td>200.5</td>\n",
       "      <td>4.024289</td>\n",
       "    </tr>\n",
       "    <tr>\n",
       "      <th>398</th>\n",
       "      <td>201.0</td>\n",
       "      <td>4.025200</td>\n",
       "    </tr>\n",
       "    <tr>\n",
       "      <th>399</th>\n",
       "      <td>201.5</td>\n",
       "      <td>4.020897</td>\n",
       "    </tr>\n",
       "    <tr>\n",
       "      <th>400</th>\n",
       "      <td>202.0</td>\n",
       "      <td>4.015239</td>\n",
       "    </tr>\n",
       "    <tr>\n",
       "      <th>401</th>\n",
       "      <td>202.5</td>\n",
       "      <td>4.014372</td>\n",
       "    </tr>\n",
       "  </tbody>\n",
       "</table>\n",
       "</div>"
      ],
      "text/plain": [
       "     Depth      Cond\n",
       "397  200.5  4.024289\n",
       "398  201.0  4.025200\n",
       "399  201.5  4.020897\n",
       "400  202.0  4.015239\n",
       "401  202.5  4.014372"
      ]
     },
     "execution_count": 7,
     "metadata": {},
     "output_type": "execute_result"
    }
   ],
   "source": [
    "XY.head(5)"
   ]
  },
  {
   "cell_type": "code",
   "execution_count": 8,
   "metadata": {},
   "outputs": [
    {
     "data": {
      "text/plain": [
       "<AxesSubplot:xlabel='Depth', ylabel='Cond'>"
      ]
     },
     "execution_count": 8,
     "metadata": {},
     "output_type": "execute_result"
    },
    {
     "data": {
      "image/png": "[encoded data removed]",
      "text/plain": [
       "<Figure size 1200x800 with 1 Axes>"
      ]
     },
     "metadata": {},
     "output_type": "display_data"
    }
   ],
   "source": [
    "XY.plot(kind='scatter', x='Depth', y='Cond', figsize=(12,8))"
   ]
  },
  {
   "cell_type": "code",
   "execution_count": 9,
   "metadata": {},
   "outputs": [],
   "source": [
    "# Assigning dataset to template X & y\n",
    "X = XY.iloc[:, :-1].values # All except last column\n",
    "y = XY.iloc[:, -1].values # Last Column"
   ]
  },
  {
   "cell_type": "code",
   "execution_count": 10,
   "metadata": {},
   "outputs": [
    {
     "name": "stdout",
     "output_type": "stream",
     "text": [
      "[[200.5]\n",
      " [201. ]\n",
      " [201.5]\n",
      " [202. ]]\n"
     ]
    }
   ],
   "source": [
    "print(X[0:4,:])"
   ]
  },
  {
   "cell_type": "code",
   "execution_count": 11,
   "metadata": {},
   "outputs": [
    {
     "name": "stdout",
     "output_type": "stream",
     "text": [
      "[4.024289 4.0252   4.020897 4.015239]\n"
     ]
    }
   ],
   "source": [
    "print(y[0:4])"
   ]
  },
  {
   "cell_type": "code",
   "execution_count": 12,
   "metadata": {},
   "outputs": [],
   "source": [
    "# Splitting the dataset into the Training set and Test set\n",
    "from sklearn.model_selection import train_test_split\n",
    "X_train, X_test, y_train, y_test = train_test_split(X, y, test_size = 1/3, random_state = 0)"
   ]
  },
  {
   "cell_type": "code",
   "execution_count": 13,
   "metadata": {},
   "outputs": [
    {
     "data": {
      "text/plain": [
       "[332, 332, 167, 167]"
      ]
     },
     "execution_count": 13,
     "metadata": {},
     "output_type": "execute_result"
    }
   ],
   "source": [
    "[X_train.size, y_train.size, X_test.size, y_test.size]"
   ]
  },
  {
   "cell_type": "code",
   "execution_count": 14,
   "metadata": {},
   "outputs": [
    {
     "data": {
      "text/plain": [
       "LinearRegression()"
      ]
     },
     "execution_count": 14,
     "metadata": {},
     "output_type": "execute_result"
    }
   ],
   "source": [
    "# Fitting Simple Linear Regression to the Training set\n",
    "from sklearn.linear_model import LinearRegression\n",
    "regressor = LinearRegression()\n",
    "regressor.fit(X_train, y_train)"
   ]
  },
  {
   "cell_type": "code",
   "execution_count": 15,
   "metadata": {},
   "outputs": [],
   "source": [
    "# Predicting the Test set results\n",
    "y_pred = regressor.predict(X_test)"
   ]
  },
  {
   "cell_type": "code",
   "execution_count": 16,
   "metadata": {},
   "outputs": [
    {
     "data": {
      "image/png": "[encoded data removed]",
      "text/plain": [
       "<Figure size 640x480 with 1 Axes>"
      ]
     },
     "metadata": {},
     "output_type": "display_data"
    }
   ],
   "source": [
    "# Visualising the Training set results\n",
    "plt.scatter(X_train, y_train, color = 'red')\n",
    "plt.plot(X_train, regressor.predict(X_train), color = 'blue')\n",
    "plt.title('Depth (m) vs Conductivity (S/m) (Training set)')\n",
    "plt.xlabel('Depth (m)')\n",
    "plt.ylabel('Conductivity (S/m)')\n",
    "plt.show()"
   ]
  },
  {
   "cell_type": "code",
   "execution_count": 17,
   "metadata": {},
   "outputs": [
    {
     "data": {
      "image/png": "[encoded data removed]",
      "text/plain": [
       "<Figure size 640x480 with 1 Axes>"
      ]
     },
     "metadata": {},
     "output_type": "display_data"
    }
   ],
   "source": [
    "# Visualising the Test set results\n",
    "plt.scatter(X_test, y_test, color = 'red')\n",
    "plt.plot(X_train, regressor.predict(X_train), color = 'blue')\n",
    "plt.title('Depth (m) vs Conductivity (S/m) (Test set)')\n",
    "plt.xlabel('Depth (m)')\n",
    "plt.ylabel('Conductivity (S/m)')\n",
    "plt.show()"
   ]
  },
  {
   "cell_type": "code",
   "execution_count": 18,
   "metadata": {},
   "outputs": [
    {
     "name": "stdout",
     "output_type": "stream",
     "text": [
      "Coefficients Slope: -0.001345\n",
      "Coefficients Intercept: 4.275654\n",
      "Mean squared error (Train): 0.000053\n",
      "Mean squared error (Test): 0.000064\n",
      "Variance score: 0.993282\n"
     ]
    }
   ],
   "source": [
    "from sklearn.metrics import mean_squared_error, r2_score\n",
    "# The coefficients\n",
    "print('Coefficients Slope: %.6f' % regressor.coef_)\n",
    "print('Coefficients Intercept: %.6f' % regressor.intercept_)\n",
    "# The mean squared error\n",
    "print(\"Mean squared error (Train): %.6f\"\n",
    "      % mean_squared_error(y_train, regressor.predict(X_train)))\n",
    "print(\"Mean squared error (Test): %.6f\"\n",
    "      % mean_squared_error(y_test, regressor.predict(X_test)))\n",
    "# Explained variance score: 1 is perfect prediction\n",
    "# Variance on Test\n",
    "print('Variance score: %.6f' % r2_score(y_test, regressor.predict(X_test)))"
   ]
  },
  {
   "cell_type": "markdown",
   "metadata": {},
   "source": [
    "#### Variance Score represents the proportion of variance (of y) that has been explained by the independent variables in the model. It provides an indication of goodness of fit and therefore a measure of how well unseen samples are likely to be predicted by the model, through the proportion of explained variance.\n",
    "\n",
    "$$ R^2(y, \\hat{y}) = 1 - \\frac{\\sum_{i=1}^{n} (y_i - \\hat{y}_i)^2}{\\sum_{i=1}^{n} (y_i - \\bar{y})^2} $$"
   ]
  },
  {
   "cell_type": "raw",
   "metadata": {},
   "source": []
  }
 ],
 "metadata": {
  "kernelspec": {
   "display_name": "Python 3 (ipykernel)",
   "language": "python",
   "name": "python3"
  },
  "language_info": {
   "codemirror_mode": {
    "name": "ipython",
    "version": 3
   },
   "file_extension": ".py",
   "mimetype": "text/x-python",
   "name": "python",
   "nbconvert_exporter": "python",
   "pygments_lexer": "ipython3",
   "version": "3.9.13"
  }
 },
 "nbformat": 4,
 "nbformat_minor": 2
}
