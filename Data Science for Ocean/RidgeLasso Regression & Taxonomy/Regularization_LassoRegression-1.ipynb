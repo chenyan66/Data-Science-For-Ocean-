{
 "cells": [
  {
   "cell_type": "markdown",
   "metadata": {},
   "source": [
    "## Regularization LASSO Regression\n",
    "\n",
    "#### Lasso (Least Absolute Shrinkage and Selection Operator)\n",
    "\n",
    "### Impose a penalty on the size of coefficients $\\min_{\\theta} {{|| X * \\theta - y||_2} + \\alpha {||\\theta||_1}}$\n",
    "\n",
    "This type of regularization (L1 Norm) can lead to zero coefficients i.e. some of the features are completely neglected for the evaluation of output. So Lasso regression not only helps in reducing over-fitting but it can help us in __feature selection__. \n",
    "\n",
    "The L1 norm is calculated as the sum of the absolute vector values.\n",
    "$||v||_{1} = \\sum_{k=1}^n{|x_i| }$\n",
    "\n",
    "The name relates to the distance a taxi has to drive in a rectangular street grid to get from the origin to the point x hence also known as __Taxicab norm or Manhattan norm__."
   ]
  },
  {
   "cell_type": "markdown",
   "metadata": {},
   "source": [
    "https://jupyter-notebook.readthedocs.io/en/stable/examples/Notebook/Typesetting%20Equations.html\n",
    "https://medium.com/ibm-data-science-experience/markdown-for-jupyter-notebooks-cheatsheet-386c05aeebed "
   ]
  },
  {
   "cell_type": "code",
   "execution_count": 1,
   "metadata": {},
   "outputs": [],
   "source": [
    "# Import Libraries\n",
    "import matplotlib.pyplot as plt\n",
    "import numpy as np \n",
    "import pandas as pd\n",
    "import matplotlib\n",
    "matplotlib.rcParams.update({'font.size': 12})\n",
    "\n",
    "from sklearn.model_selection import train_test_split\n",
    "from sklearn.linear_model import LinearRegression\n",
    "from sklearn.linear_model import Lasso"
   ]
  },
  {
   "cell_type": "markdown",
   "metadata": {},
   "source": [
    "__First we need some data. Let us use the Yacht Hydrodynamics Data Set provided on eCampus.__ __\"yacht_hydrodynamics.data\"__\n",
    "\n",
    "Data from: Dua, D. and Karra Taniskidou, E. (2017). UCI Machine Learning Repository [http://archive.ics.uci.edu/ml]. Irvine, CA: University of California, School of Information and Computer Science.\n",
    "http://archive.ics.uci.edu/ml/datasets/Yacht+Hydrodynamics# \n",
    "\n",
    "__Below is the file description.__\n",
    "Variations concern hull geometry coefficients and the Froude number:\n",
    "1. Longitudinal position of the center of buoyancy, adimensional. (CB)\n",
    "2. Prismatic coefficient, adimensional. (PrismCoeff)\n",
    "3. Length-displacement ratio, adimensional. (LbyD)\n",
    "4. Beam-draught ratio, adimensional. (BbyT)\n",
    "5. Length-beam ratio, adimensional. (LbyB)\n",
    "6. Froude number, adimensional. (FrNo)\n",
    "7. Residuary resistance per unit weight of displacement, adimensional (RRes)\n",
    "\n"
   ]
  },
  {
   "cell_type": "markdown",
   "metadata": {},
   "source": [
    "__Let us set Path and Read All data from Excel File__"
   ]
  },
  {
   "cell_type": "code",
   "execution_count": 2,
   "metadata": {},
   "outputs": [
    {
     "data": {
      "text/html": [
       "<div>\n",
       "<style scoped>\n",
       "    .dataframe tbody tr th:only-of-type {\n",
       "        vertical-align: middle;\n",
       "    }\n",
       "\n",
       "    .dataframe tbody tr th {\n",
       "        vertical-align: top;\n",
       "    }\n",
       "\n",
       "    .dataframe thead th {\n",
       "        text-align: right;\n",
       "    }\n",
       "</style>\n",
       "<table border=\"1\" class=\"dataframe\">\n",
       "  <thead>\n",
       "    <tr style=\"text-align: right;\">\n",
       "      <th></th>\n",
       "      <th>0</th>\n",
       "      <th>1</th>\n",
       "      <th>2</th>\n",
       "      <th>3</th>\n",
       "      <th>4</th>\n",
       "      <th>5</th>\n",
       "      <th>6</th>\n",
       "    </tr>\n",
       "  </thead>\n",
       "  <tbody>\n",
       "    <tr>\n",
       "      <th>0</th>\n",
       "      <td>-2.3</td>\n",
       "      <td>0.568</td>\n",
       "      <td>4.78</td>\n",
       "      <td>3.99</td>\n",
       "      <td>3.17</td>\n",
       "      <td>0.125</td>\n",
       "      <td>0.11</td>\n",
       "    </tr>\n",
       "    <tr>\n",
       "      <th>1</th>\n",
       "      <td>-2.3</td>\n",
       "      <td>0.568</td>\n",
       "      <td>4.78</td>\n",
       "      <td>3.99</td>\n",
       "      <td>3.17</td>\n",
       "      <td>0.150</td>\n",
       "      <td>0.27</td>\n",
       "    </tr>\n",
       "    <tr>\n",
       "      <th>2</th>\n",
       "      <td>-2.3</td>\n",
       "      <td>0.568</td>\n",
       "      <td>4.78</td>\n",
       "      <td>3.99</td>\n",
       "      <td>3.17</td>\n",
       "      <td>0.175</td>\n",
       "      <td>0.47</td>\n",
       "    </tr>\n",
       "    <tr>\n",
       "      <th>3</th>\n",
       "      <td>-2.3</td>\n",
       "      <td>0.568</td>\n",
       "      <td>4.78</td>\n",
       "      <td>3.99</td>\n",
       "      <td>3.17</td>\n",
       "      <td>0.200</td>\n",
       "      <td>0.78</td>\n",
       "    </tr>\n",
       "    <tr>\n",
       "      <th>4</th>\n",
       "      <td>-2.3</td>\n",
       "      <td>0.568</td>\n",
       "      <td>4.78</td>\n",
       "      <td>3.99</td>\n",
       "      <td>3.17</td>\n",
       "      <td>0.225</td>\n",
       "      <td>1.18</td>\n",
       "    </tr>\n",
       "  </tbody>\n",
       "</table>\n",
       "</div>"
      ],
      "text/plain": [
       "     0      1     2     3     4      5     6\n",
       "0 -2.3  0.568  4.78  3.99  3.17  0.125  0.11\n",
       "1 -2.3  0.568  4.78  3.99  3.17  0.150  0.27\n",
       "2 -2.3  0.568  4.78  3.99  3.17  0.175  0.47\n",
       "3 -2.3  0.568  4.78  3.99  3.17  0.200  0.78\n",
       "4 -2.3  0.568  4.78  3.99  3.17  0.225  1.18"
      ]
     },
     "execution_count": 2,
     "metadata": {},
     "output_type": "execute_result"
    }
   ],
   "source": [
    "import os\n",
    "path = os.getcwd() + '\\\\yacht_hydrodynamics.data'\n",
    "# https://pandas.pydata.org/pandas-docs/stable/reference/api/pandas.read_excel.html\n",
    "data = pd.read_csv(path, sep='\\s+',  header = None) \n",
    "data.head()"
   ]
  },
  {
   "cell_type": "code",
   "execution_count": 3,
   "metadata": {},
   "outputs": [
    {
     "data": {
      "text/html": [
       "<div>\n",
       "<style scoped>\n",
       "    .dataframe tbody tr th:only-of-type {\n",
       "        vertical-align: middle;\n",
       "    }\n",
       "\n",
       "    .dataframe tbody tr th {\n",
       "        vertical-align: top;\n",
       "    }\n",
       "\n",
       "    .dataframe thead th {\n",
       "        text-align: right;\n",
       "    }\n",
       "</style>\n",
       "<table border=\"1\" class=\"dataframe\">\n",
       "  <thead>\n",
       "    <tr style=\"text-align: right;\">\n",
       "      <th></th>\n",
       "      <th>CB</th>\n",
       "      <th>PrismCoeff</th>\n",
       "      <th>LbyD</th>\n",
       "      <th>BbyT</th>\n",
       "      <th>LbyB</th>\n",
       "      <th>FrNo</th>\n",
       "      <th>RRes</th>\n",
       "    </tr>\n",
       "  </thead>\n",
       "  <tbody>\n",
       "    <tr>\n",
       "      <th>0</th>\n",
       "      <td>-2.3</td>\n",
       "      <td>0.568</td>\n",
       "      <td>4.78</td>\n",
       "      <td>3.99</td>\n",
       "      <td>3.17</td>\n",
       "      <td>0.125</td>\n",
       "      <td>0.11</td>\n",
       "    </tr>\n",
       "    <tr>\n",
       "      <th>1</th>\n",
       "      <td>-2.3</td>\n",
       "      <td>0.568</td>\n",
       "      <td>4.78</td>\n",
       "      <td>3.99</td>\n",
       "      <td>3.17</td>\n",
       "      <td>0.150</td>\n",
       "      <td>0.27</td>\n",
       "    </tr>\n",
       "    <tr>\n",
       "      <th>2</th>\n",
       "      <td>-2.3</td>\n",
       "      <td>0.568</td>\n",
       "      <td>4.78</td>\n",
       "      <td>3.99</td>\n",
       "      <td>3.17</td>\n",
       "      <td>0.175</td>\n",
       "      <td>0.47</td>\n",
       "    </tr>\n",
       "    <tr>\n",
       "      <th>3</th>\n",
       "      <td>-2.3</td>\n",
       "      <td>0.568</td>\n",
       "      <td>4.78</td>\n",
       "      <td>3.99</td>\n",
       "      <td>3.17</td>\n",
       "      <td>0.200</td>\n",
       "      <td>0.78</td>\n",
       "    </tr>\n",
       "    <tr>\n",
       "      <th>4</th>\n",
       "      <td>-2.3</td>\n",
       "      <td>0.568</td>\n",
       "      <td>4.78</td>\n",
       "      <td>3.99</td>\n",
       "      <td>3.17</td>\n",
       "      <td>0.225</td>\n",
       "      <td>1.18</td>\n",
       "    </tr>\n",
       "  </tbody>\n",
       "</table>\n",
       "</div>"
      ],
      "text/plain": [
       "    CB  PrismCoeff  LbyD  BbyT  LbyB   FrNo  RRes\n",
       "0 -2.3       0.568  4.78  3.99  3.17  0.125  0.11\n",
       "1 -2.3       0.568  4.78  3.99  3.17  0.150  0.27\n",
       "2 -2.3       0.568  4.78  3.99  3.17  0.175  0.47\n",
       "3 -2.3       0.568  4.78  3.99  3.17  0.200  0.78\n",
       "4 -2.3       0.568  4.78  3.99  3.17  0.225  1.18"
      ]
     },
     "execution_count": 3,
     "metadata": {},
     "output_type": "execute_result"
    }
   ],
   "source": [
    "data.columns=[\"CB\",\"PrismCoeff\",\"LbyD\",\"BbyT\",\"LbyB\",\"FrNo\",\"RRes\"]\n",
    "data.head()"
   ]
  },
  {
   "cell_type": "code",
   "execution_count": 4,
   "metadata": {},
   "outputs": [
    {
     "data": {
      "text/plain": [
       "<AxesSubplot:xlabel='FrNo', ylabel='RRes'>"
      ]
     },
     "execution_count": 4,
     "metadata": {},
     "output_type": "execute_result"
    },
    {
     "data": {
      "image/png": "[encoded data removed]",
      "text/plain": [
       "<Figure size 1000x500 with 1 Axes>"
      ]
     },
     "metadata": {},
     "output_type": "display_data"
    }
   ],
   "source": [
    "data.plot(kind='scatter', x='FrNo', y='RRes', figsize=(10,5))"
   ]
  },
  {
   "cell_type": "code",
   "execution_count": 5,
   "metadata": {},
   "outputs": [],
   "source": [
    "# Create X & Y\n",
    "# Assigning dataset to template X & y\n",
    "X = data.iloc[:, :-1].values # All except last column\n",
    "y = data.iloc[:, -1].values # Last Column"
   ]
  },
  {
   "cell_type": "code",
   "execution_count": 6,
   "metadata": {},
   "outputs": [
    {
     "name": "stdout",
     "output_type": "stream",
     "text": [
      "93 93\n"
     ]
    }
   ],
   "source": [
    "# Train Test Split\n",
    "X_train,X_test,y_train,y_test=train_test_split(X,y,test_size=0.3,random_state=3)\n",
    "print(len(X_test), len(y_test))"
   ]
  },
  {
   "cell_type": "markdown",
   "metadata": {},
   "source": [
    "## Polynomial MODEL ##"
   ]
  },
  {
   "cell_type": "code",
   "execution_count": 7,
   "metadata": {},
   "outputs": [
    {
     "data": {
      "text/plain": [
       "(215, 210)"
      ]
     },
     "execution_count": 7,
     "metadata": {},
     "output_type": "execute_result"
    }
   ],
   "source": [
    "# Fitting Simple Linear Regression to the Training set\n",
    "from sklearn.linear_model import LinearRegression\n",
    "# Fitting Polynomial Regression to the dataset\n",
    "from sklearn.preprocessing import PolynomialFeatures\n",
    "\n",
    "poly_reg = PolynomialFeatures(degree = 4)\n",
    "# Generate a new feature matrix consisting of all polynomial combinations of the features\n",
    "# with degree less than or equal to the specified degree. For example, if an input sample\n",
    "# is two dimensional and of the form [a, b], the degree-2 polynomial features are\n",
    "# [1, a, b, a^2, ab, b^2].\n",
    "\n",
    "X_poly_train = poly_reg.fit_transform(X_train)\n",
    "X_poly_test = poly_reg.fit_transform(X_test)\n",
    "\n",
    "poly_reg.fit(X_poly_train, y_train)\n",
    "lin_reg_Poly = LinearRegression()\n",
    "lin_reg_Poly.fit(X_poly_train, y_train)\n",
    "X_poly_train.shape"
   ]
  },
  {
   "cell_type": "markdown",
   "metadata": {},
   "source": [
    "### LASSO Regression "
   ]
  },
  {
   "cell_type": "code",
   "execution_count": 8,
   "metadata": {},
   "outputs": [
    {
     "name": "stdout",
     "output_type": "stream",
     "text": [
      "training score: 0.8249728289797518\n",
      "test score:  0.7841408129892291\n",
      "number of features used:  10\n"
     ]
    }
   ],
   "source": [
    "# Difference of lasso and ridge regression is that some of the coefficients can be zero \n",
    "# i.e. some of the features are  completely neglected\n",
    "\n",
    "# The default value of regularization parameter in Lasso regression (given by α) is 1.\n",
    "lasso = Lasso(max_iter=10e5) # Default iterations throws warning about convergence\n",
    "lasso.fit(X_poly_train,y_train)\n",
    "train_score=lasso.score(X_poly_train,y_train)\n",
    "test_score=lasso.score(X_poly_test,y_test)\n",
    "coeff_used = np.sum(lasso.coef_!=0)\n",
    "print(\"training score:\", train_score) \n",
    "print(\"test score: \", test_score)\n",
    "print(\"number of features used: \", coeff_used)"
   ]
  },
  {
   "cell_type": "code",
   "execution_count": 9,
   "metadata": {},
   "outputs": [
    {
     "name": "stdout",
     "output_type": "stream",
     "text": [
      "training score for alpha = 0.01: 0.9584910290693903\n",
      "test score for alpha = 0.01:  0.9256696774045694\n",
      "number of features used: for alpha = 0.01: 29\n"
     ]
    }
   ],
   "source": [
    "lassoLOW = Lasso(alpha=0.01, max_iter=10e6)\n",
    "lassoLOW.fit(X_poly_train,y_train)\n",
    "train_scoreLOW=lassoLOW.score(X_poly_train,y_train)\n",
    "test_scoreLOW=lassoLOW.score(X_poly_test,y_test)\n",
    "coeff_usedLOW = np.sum(lassoLOW.coef_!=0)\n",
    "print(\"training score for alpha = 0.01:\", train_scoreLOW )\n",
    "print(\"test score for alpha = 0.01: \", test_scoreLOW)\n",
    "print(\"number of features used: for alpha = 0.01:\", coeff_usedLOW)"
   ]
  },
  {
   "cell_type": "code",
   "execution_count": 10,
   "metadata": {},
   "outputs": [
    {
     "name": "stdout",
     "output_type": "stream",
     "text": [
      "LR training score: 0.9982945867513513\n",
      "LR test score:  0.9973923421552634\n",
      "number of features used: for LR: 210\n"
     ]
    }
   ],
   "source": [
    "lr = LinearRegression()\n",
    "lr.fit(X_poly_train,y_train)\n",
    "lr_train_score=lr.score(X_poly_train,y_train)\n",
    "lr_test_score=lr.score(X_poly_test,y_test)\n",
    "print(\"LR training score:\", lr_train_score )\n",
    "print(\"LR test score: \", lr_test_score)\n",
    "print(\"number of features used: for LR:\", X_poly_train.shape[1])"
   ]
  },
  {
   "cell_type": "code",
   "execution_count": 11,
   "metadata": {},
   "outputs": [
    {
     "data": {
      "image/png": "[encoded data removed]",
      "text/plain": [
       "<Figure size 960x640 with 1 Axes>"
      ]
     },
     "metadata": {},
     "output_type": "display_data"
    }
   ],
   "source": [
    "plt.figure(figsize=(12, 8), dpi=80)\n",
    "plt.plot(lasso.coef_,alpha=0.7,linestyle='none',marker='*',markersize=5,color='red',label=r'Lasso; $\\alpha = 1$',zorder=7) # alpha here is for transparency\n",
    "plt.plot(lassoLOW.coef_,alpha=0.5,linestyle='none',marker='d',markersize=6,color='blue',label=r'Lasso; $\\alpha = 0.01$') # alpha here is for transparency\n",
    "plt.plot(lr.coef_,alpha=0.7,linestyle='none',marker='o',markersize=5,color='green',label='Linear Regression',zorder=2)\n",
    "plt.xlabel('Coefficient Index',fontsize=16)\n",
    "plt.ylabel('Coefficient Magnitude',fontsize=16)\n",
    "plt.legend(fontsize=13,loc=4)\n",
    "plt.tight_layout()\n",
    "plt.show()"
   ]
  },
  {
   "cell_type": "markdown",
   "metadata": {},
   "source": [
    "### $\\alpha$ makes some of the coefficients zero i.e. some of the features are  completely neglected"
   ]
  }
 ],
 "metadata": {
  "kernelspec": {
   "display_name": "Python 3 (ipykernel)",
   "language": "python",
   "name": "python3"
  },
  "language_info": {
   "codemirror_mode": {
    "name": "ipython",
    "version": 3
   },
   "file_extension": ".py",
   "mimetype": "text/x-python",
   "name": "python",
   "nbconvert_exporter": "python",
   "pygments_lexer": "ipython3",
   "version": "3.9.13"
  }
 },
 "nbformat": 4,
 "nbformat_minor": 2
}
